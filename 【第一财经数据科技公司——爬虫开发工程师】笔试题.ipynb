{
 "cells": [
  {
   "cell_type": "markdown",
   "metadata": {},
   "source": [
    "## 笔试题说明\n",
    "\n",
    "- 直接在标注 `# 修改这部分代码完成需求` 的格子里修改代码，实现题目中描述的功能\n",
    "- 标注 `# 这里是测试代码` 的格子仅用于测试，无需修改\n",
    "- 代码尽量简洁高效（例如：可使用匿名函数、函数式编程等，减少不必要的变量、函数或循环）\n",
    "- 1-3题的解决方案应具备通用性，而不是只适用于测试代码中的个例\n",
    "- 代码需确保其在`Jupyter Notebook`环境中能正常运行（如果在别处写的代码粘贴过来，注意格式等问题）"
   ]
  },
  {
   "cell_type": "markdown",
   "metadata": {},
   "source": [
    "-----\n",
    "<center><b>------这里是华丽的分界线，以下进入正式答题部分------</b></center>     \n",
    "\n",
    "-----"
   ]
  },
  {
   "cell_type": "markdown",
   "metadata": {},
   "source": [
    "### 1. 字符串操作——命名方式转换"
   ]
  },
  {
   "cell_type": "markdown",
   "metadata": {},
   "source": [
    "把下划线命名（也叫蛇形命名，所有单词都是小写，中间通过下划线连接），转化为小驼峰命名法（第一个单词小写，其余所有单词首字母大写）。    \n",
    "例如`'go_to_next_page'`，转化后改写为`'goToNextPage'`。      \n",
    "请用两种方法实现：   \n",
    "- 一种方法为正则表达式替换方法，即`re.sub()`\n",
    "- 另一种方法不限"
   ]
  },
  {
   "cell_type": "code",
   "execution_count": null,
   "metadata": {},
   "outputs": [],
   "source": [
    "# 修改这部分代码完成需求\n",
    "import re\n",
    "def convert_name_re(name):\n",
    "    # 方法一（正则）：\n",
    "    pass\n",
    "\n",
    "def convert_name(name):\n",
    "    # 方法二（其他）：\n",
    "    pass"
   ]
  },
  {
   "cell_type": "code",
   "execution_count": null,
   "metadata": {},
   "outputs": [],
   "source": [
    "# 这里是测试代码\n",
    "print(convert_name_re('go_to_next_page'))  # 'goToNextPage'\n",
    "print(convert_name_re('crawl_home_site'))  # 'crawlHomeSite'\n",
    "print(convert_name('go_to_next_page'))  # 'goToNextPage'\n",
    "print(convert_name('crawl_home_site'))  # 'crawlHomeSite'"
   ]
  },
  {
   "cell_type": "markdown",
   "metadata": {},
   "source": [
    "### 2. 设计模式——装饰器"
   ]
  },
  {
   "cell_type": "markdown",
   "metadata": {},
   "source": [
    "编写一个装饰器函数`log_time`，被装饰的函数执行时打印出【函数名】与【执行时间】（时间单位为秒，只需保留小数点后一位，见测试示例）。    \n",
    "注：装饰器函数要具备通用性，即被装饰函数允许传入位置参数与关键字参数。"
   ]
  },
  {
   "cell_type": "code",
   "execution_count": null,
   "metadata": {},
   "outputs": [],
   "source": [
    "# 修改这部分代码完成需求\n",
    "import time\n",
    "def log_time(func):\n",
    "    pass"
   ]
  },
  {
   "cell_type": "code",
   "execution_count": null,
   "metadata": {},
   "outputs": [],
   "source": [
    "# 这里是测试代码\n",
    "@log_time\n",
    "def salute(word):\n",
    "    time.sleep(2)\n",
    "    print(word)\n",
    "\n",
    "salute('hello') # ’hello‘ ’Function [saySomething] took 2.0 seconds to execute‘"
   ]
  },
  {
   "cell_type": "markdown",
   "metadata": {},
   "source": [
    "### 3. 面向对象——运算符重载"
   ]
  },
  {
   "cell_type": "markdown",
   "metadata": {},
   "source": [
    "定义一个Vector类，能够实现任意维向量的加法运算（类似numpy中的向量运算）。   \n",
    "例如，测试代码中分别针对三维向量和二维向量的加法运算：   \n",
    "$ (1,3,6) + (2,4,3) = (3,7,9)  $   \n",
    "$ (1,3) + (4,1) = (5,4)  $   \n",
    "提示：重写python内置的魔法方法 `__add__`和`__repr__`"
   ]
  },
  {
   "cell_type": "code",
   "execution_count": null,
   "metadata": {},
   "outputs": [],
   "source": [
    "# 修改这部分代码完成需求\n",
    "class Vector:\n",
    "    pass"
   ]
  },
  {
   "cell_type": "code",
   "execution_count": null,
   "metadata": {},
   "outputs": [],
   "source": [
    "# 这里是测试代码\n",
    "A = Vector(1,3,6)\n",
    "print(A) # (1,3,6)\n",
    "B = Vector(2,4,3)\n",
    "C = A + B\n",
    "print(C) # (3,7,9)\n",
    "print(Vector(1,3) + Vector(4,1)) # (5,4)"
   ]
  },
  {
   "cell_type": "markdown",
   "metadata": {},
   "source": [
    "### 4. 常规爬虫——模板解析"
   ]
  },
  {
   "cell_type": "markdown",
   "metadata": {},
   "source": [
    "采集“[新浪天气](http://weather.sina.com.cn/)”中的\"逐月气候\"(页面右下角)数据，包含1月-12月的每月降水量、最低气温、最高气温。   "
   ]
  },
  {
   "cell_type": "markdown",
   "metadata": {},
   "source": [
    "把采集到的降水量和气温数据保存为形如以下结构的列表中：   \n",
    "```\n",
    "climate = [\n",
    "    {'month': 1,\n",
    "     'precipitaion': 50.6,\n",
    "     'temp_low': 1.1,\n",
    "     'temp_high': 8\n",
    "    }, \n",
    "     ...\n",
    "]\n",
    "```  \n",
    "对于默认城市上海，这里只列出了一月的数据作为示例，即降水量为50.6(mm), 最低气温1.1(℃)，最高气温8(℃)。（都保留纯数字，不需要单位）"
   ]
  },
  {
   "cell_type": "code",
   "execution_count": null,
   "metadata": {},
   "outputs": [],
   "source": [
    "# 修改这部分代码完成需求\n",
    "import requests\n",
    "from lxml import etree\n",
    "def get_climate():\n",
    "    url = 'http://weather.sina.com.cn/'\n",
    "    pass"
   ]
  },
  {
   "cell_type": "code",
   "execution_count": null,
   "metadata": {},
   "outputs": [],
   "source": [
    "# 这里是测试代码\n",
    "print(get_climate())"
   ]
  },
  {
   "cell_type": "markdown",
   "metadata": {},
   "source": [
    "### 5. 自由表达"
   ]
  },
  {
   "cell_type": "markdown",
   "metadata": {},
   "source": [
    "根据自己的相关经验与思考，简要表达【爬虫开发工程师】这一职位的理解，字数不限（建议300字内）。可以参照，但不需要涵盖、也不用局限于以下几个方面。（我们希望团队成员在完成工作需求之余，也能有自己的总结和想法）    \n",
    "- 工作感受\n",
    "    - 遇到过哪些挑战，踩过哪些坑\n",
    "    - 有过哪些成就感或挫败感\n",
    "    - 最享受和最反感的工作内容或工作方式\n",
    "- 职业发展\n",
    "    - 未来最希望在哪些方面得到更多锻炼和提升\n",
    "- 反馈或建议（针对这份面试题）\n",
    "    - 题目数量和用时是否合理\n",
    "    - 能否客观反映你的技术、知识、思维等\n",
    "    - 有没有表述不够清晰、严谨、有歧义的地方\n",
    "    - 是否有建议增加或去掉的问题\n",
    "- 其他\n",
    "    - 其他任何能为自己加分的技能、经历、个人项目等均可，希望看到你精彩的一面"
   ]
  },
  {
   "cell_type": "markdown",
   "metadata": {},
   "source": [
    "(这里是留给小伙伴自由表达的地方，请直接修改) "
   ]
  },
  {
   "cell_type": "markdown",
   "metadata": {},
   "source": [
    "-----\n",
    "<center><b>------这里是华丽的分界线，答题部分到此结束------</b></center>     \n",
    "\n",
    "-----"
   ]
  },
  {
   "cell_type": "markdown",
   "metadata": {},
   "source": [
    "<b>完成后保存此 `.ipynb` 文件并重命名为 `{姓名}-{毕业院校}-{职位}.ipynb` 文件（如：`雷军-爬虫开发.ipynb`），发送到HR小姐姐的邮箱 [shiwenzhen@dtcj.com](shiwenzhen@dtcj.com)</b>    \n",
    "我们将在提交后的1-3个工作日内，邀请能力匹配的申请者参加现场面试。  \n",
    "无论结果如何，希望你能在这个过程中有所收获，也希望我们能有一起合作的机会。\n",
    "<div style=\"margin-bottom: 100px\"></div>"
   ]
  },
  {
   "cell_type": "code",
   "execution_count": null,
   "metadata": {},
   "outputs": [],
   "source": []
  }
 ],
 "metadata": {
  "kernelspec": {
   "display_name": "Python 3",
   "language": "python",
   "name": "python3"
  },
  "language_info": {
   "codemirror_mode": {
    "name": "ipython",
    "version": 3
   },
   "file_extension": ".py",
   "mimetype": "text/x-python",
   "name": "python",
   "nbconvert_exporter": "python",
   "pygments_lexer": "ipython3",
   "version": "3.7.2"
  }
 },
 "nbformat": 4,
 "nbformat_minor": 2
}
